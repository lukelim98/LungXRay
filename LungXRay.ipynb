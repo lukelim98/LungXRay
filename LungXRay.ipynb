{
 "cells": [
  {
   "cell_type": "code",
   "execution_count": 11,
   "id": "7b5c35c3-2fc2-43bb-af9a-2c2ee87f1405",
   "metadata": {
    "tags": []
   },
   "outputs": [
    {
     "name": "stdout",
     "output_type": "stream",
     "text": [
      "Welcome! Downloading some things... this will take a minute\n",
      "[Errno 2] No such file or directory: '/ content'\n",
      "Great! You clicked on it correctly, Now let's get started.\n"
     ]
    }
   ],
   "source": [
    "%matplotlib inline\n",
    "\n",
    "import sklearn.metrics\n",
    "import random\n",
    "import tensorflow as tf\n",
    "import matplotlib.pyplot as plt\n",
    "import os\n",
    "import io\n",
    "import glob\n",
    "import scipy.misc\n",
    "import numpy as np\n",
    "import pandas as pd\n",
    "from six import BytesIO\n",
    "from PIL import Image, ImageDraw, ImageFont\n",
    "import shutil\n",
    "from tensorflow.keras.applications.inception_v3 import InceptionV3\n",
    "from tensorflow.keras import layers\n",
    "from tensorflow.keras import Model\n",
    "import matplotlib\n",
    "from tensorflow.keras.optimizers import RMSprop\n",
    "import os\n",
    "import zipfile\n",
    "from tensorflow.keras.preprocessing.image import ImageDataGenerator\n",
    "import matplotlib.image as mpimg\n",
    "\n",
    "LEARNING_RATE = 0.0001\n",
    "repo_url = 'https://github.com/adleberg/medical-ai'\n",
    "IMAGE_HEIGHT, IMAGE_WIDTH = 256, 256\n",
    "\n",
    "def load_image_into_numpy_array(image):\n",
    "    image = image.convert('RGB')\n",
    "    (im_width, im_height) = image.size\n",
    "    return np.array(image.getdata()).reshape((im_height, im_width, 3)).astype(np.uint8)\n",
    "\n",
    "print(\"Welcome! Downloading some things... this will take a minute\")\n",
    "\n",
    "%cd -q / content\n",
    "repo_dir_path = os.path.abspath(os.path.join('.', os.path.basename(repo_url)))\n",
    "!git clone {repo_url} --quiet\n",
    "%cd -q {repo_dir_path}\n",
    "!git pull -q\n",
    "\n",
    "print(\"Great! You clicked on it correctly, Now let's get started.\")"
   ]
  },
  {
   "cell_type": "markdown",
   "id": "23a79aeb-4c07-4cd0-940d-ea820bb8cf97",
   "metadata": {},
   "source": [
    "### 1. Define a Problem\n",
    "\n",
    "Great! Let's start by thinking of something we can look for in a chest xray.\n",
    "\n",
    "Once we think of something, let's type it in below, in between the qutoes \"\", and run the cell. I'll put in \"atelectasis\" by default, but let's see if we can think of something else.\n",
    "\n",
    "We'll be using a subset of <u>NIH CXR8 dataset</u> for this project, but this principles here apply to any project. The NIH CXR8 dataset only has a few selected finidings within its dataset, but let's pretend that we're creating a dataset from scratch (using Montage, e.g.). Of note, this dataset also has bounding boxes available to us for another demonstration on object detection.\n",
    "\n",
    "We'll need to see how many examples there are of the finding we typed in. Let's run the cell below to see.\n",
    "\n",
    "Atelectasis, Cardiomegaly, Effusion, Infiltration, Mass, Nodule, Pneumonia, Pneumothorax\n",
    "\n",
    "Above are the labels we have avialble to use in this dataset."
   ]
  },
  {
   "cell_type": "code",
   "execution_count": 12,
   "id": "38897ea4-da1e-403f-a1f3-91fb0b32077f",
   "metadata": {},
   "outputs": [],
   "source": [
    "finding = \"Cardiomegaly\""
   ]
  },
  {
   "cell_type": "code",
   "execution_count": 18,
   "id": "40dd8b14-1a4e-4e5a-8a62-96e904733975",
   "metadata": {
    "tags": []
   },
   "outputs": [
    {
     "data": {
      "text/plain": [
       "'/home/lim212/LungXRay/medical-ai'"
      ]
     },
     "execution_count": 18,
     "metadata": {},
     "output_type": "execute_result"
    }
   ],
   "source": [
    "pwd"
   ]
  },
  {
   "cell_type": "code",
   "execution_count": 23,
   "id": "0c43df36-f25c-44ad-902d-0cf4ab7b25ae",
   "metadata": {
    "tags": []
   },
   "outputs": [
    {
     "data": {
      "text/html": [
       "<div>\n",
       "<style scoped>\n",
       "    .dataframe tbody tr th:only-of-type {\n",
       "        vertical-align: middle;\n",
       "    }\n",
       "\n",
       "    .dataframe tbody tr th {\n",
       "        vertical-align: top;\n",
       "    }\n",
       "\n",
       "    .dataframe thead th {\n",
       "        text-align: right;\n",
       "    }\n",
       "</style>\n",
       "<table border=\"1\" class=\"dataframe\">\n",
       "  <thead>\n",
       "    <tr style=\"text-align: right;\">\n",
       "      <th></th>\n",
       "      <th>filename</th>\n",
       "      <th>height</th>\n",
       "      <th>width</th>\n",
       "      <th>label</th>\n",
       "      <th>xmin</th>\n",
       "      <th>ymin</th>\n",
       "      <th>xmax</th>\n",
       "      <th>ymax</th>\n",
       "      <th>view</th>\n",
       "    </tr>\n",
       "  </thead>\n",
       "  <tbody>\n",
       "    <tr>\n",
       "      <th>0</th>\n",
       "      <td>00013118_008.jpg</td>\n",
       "      <td>2992</td>\n",
       "      <td>2991</td>\n",
       "      <td>Atelectasis</td>\n",
       "      <td>225.0</td>\n",
       "      <td>547.0</td>\n",
       "      <td>311.0</td>\n",
       "      <td>626.0</td>\n",
       "      <td>PA</td>\n",
       "    </tr>\n",
       "    <tr>\n",
       "      <th>1</th>\n",
       "      <td>00014716_007.jpg</td>\n",
       "      <td>3056</td>\n",
       "      <td>2544</td>\n",
       "      <td>Atelectasis</td>\n",
       "      <td>686.0</td>\n",
       "      <td>131.0</td>\n",
       "      <td>871.0</td>\n",
       "      <td>444.0</td>\n",
       "      <td>AP</td>\n",
       "    </tr>\n",
       "    <tr>\n",
       "      <th>2</th>\n",
       "      <td>00029817_009.jpg</td>\n",
       "      <td>3056</td>\n",
       "      <td>2544</td>\n",
       "      <td>Atelectasis</td>\n",
       "      <td>221.0</td>\n",
       "      <td>317.0</td>\n",
       "      <td>376.0</td>\n",
       "      <td>533.0</td>\n",
       "      <td>AP</td>\n",
       "    </tr>\n",
       "    <tr>\n",
       "      <th>3</th>\n",
       "      <td>00014687_001.jpg</td>\n",
       "      <td>2500</td>\n",
       "      <td>2048</td>\n",
       "      <td>Atelectasis</td>\n",
       "      <td>726.0</td>\n",
       "      <td>494.0</td>\n",
       "      <td>867.0</td>\n",
       "      <td>549.0</td>\n",
       "      <td>AP</td>\n",
       "    </tr>\n",
       "    <tr>\n",
       "      <th>4</th>\n",
       "      <td>00017877_001.jpg</td>\n",
       "      <td>2500</td>\n",
       "      <td>2048</td>\n",
       "      <td>Atelectasis</td>\n",
       "      <td>660.0</td>\n",
       "      <td>569.0</td>\n",
       "      <td>860.0</td>\n",
       "      <td>647.0</td>\n",
       "      <td>AP</td>\n",
       "    </tr>\n",
       "  </tbody>\n",
       "</table>\n",
       "</div>"
      ],
      "text/plain": [
       "           filename  height  width        label   xmin   ymin   xmax   ymax  \\\n",
       "0  00013118_008.jpg    2992   2991  Atelectasis  225.0  547.0  311.0  626.0   \n",
       "1  00014716_007.jpg    3056   2544  Atelectasis  686.0  131.0  871.0  444.0   \n",
       "2  00029817_009.jpg    3056   2544  Atelectasis  221.0  317.0  376.0  533.0   \n",
       "3  00014687_001.jpg    2500   2048  Atelectasis  726.0  494.0  867.0  549.0   \n",
       "4  00017877_001.jpg    2500   2048  Atelectasis  660.0  569.0  860.0  647.0   \n",
       "\n",
       "  view  \n",
       "0   PA  \n",
       "1   AP  \n",
       "2   AP  \n",
       "3   AP  \n",
       "4   AP  "
      ]
     },
     "execution_count": 23,
     "metadata": {},
     "output_type": "execute_result"
    }
   ],
   "source": [
    "df = pd.read_csv('/home/lim212/LungXRay/medical-ai/labels.csv')\n",
    "df.head()"
   ]
  },
  {
   "cell_type": "code",
   "execution_count": 24,
   "id": "4a0a22c3-48de-4cc2-94e9-fed1dfac9e76",
   "metadata": {
    "tags": []
   },
   "outputs": [
    {
     "name": "stdout",
     "output_type": "stream",
     "text": [
      "146\n"
     ]
    }
   ],
   "source": [
    "positives = df.loc[df['label'] == finding]\n",
    "negatives = df.loc[df['label'] == \"No Finding\"]\n",
    "n = len(positives)\n",
    "print(n)"
   ]
  },
  {
   "cell_type": "code",
   "execution_count": 28,
   "id": "8e3b575f-ad6a-46c8-a7ec-625f14227ced",
   "metadata": {
    "tags": []
   },
   "outputs": [
    {
     "name": "stdout",
     "output_type": "stream",
     "text": [
      "116 29\n"
     ]
    }
   ],
   "source": [
    "TRAIN_RATIO = 0.8\n",
    "TEST_RATIO = 0.2\n",
    "TRAIN_N = int(n*TRAIN_RATIO)\n",
    "TEST_N = int(n*TEST_RATIO)\n",
    "print(TRAIN_N, TEST_N)"
   ]
  },
  {
   "cell_type": "code",
   "execution_count": 30,
   "id": "3babe74a-aa30-4fb8-92fe-7edb9ba112bc",
   "metadata": {
    "tags": []
   },
   "outputs": [],
   "source": [
    "train_labels = pd.concat([positives[:TRAIN_N], negatives[:TRAIN_N]])\n",
    "test_labels = pd.concat([positives[TRAIN_N:], negatives[TRAIN_N:]])"
   ]
  },
  {
   "cell_type": "markdown",
   "id": "9bbc8478-20ca-45b8-ba74-b7a654b39fe3",
   "metadata": {},
   "source": [
    "### 2. Preparing the data\n",
    "\n",
    "Now, we've figured out what we want our model to take a lookt at. Behind the scenes, we just need to sort the data into two folders <b>negative</b> cases and one with <b>positive</b> cases."
   ]
  },
  {
   "cell_type": "code",
   "execution_count": null,
   "id": "9892ab0f-e6bb-4390-8b9a-1a1b7d5e3599",
   "metadata": {},
   "outputs": [],
   "source": []
  },
  {
   "cell_type": "code",
   "execution_count": null,
   "id": "c52f7b89-dee7-40f8-958b-b40cc2190321",
   "metadata": {},
   "outputs": [],
   "source": []
  },
  {
   "cell_type": "code",
   "execution_count": null,
   "id": "3a1acd88-f318-4de5-b6be-4e286048632f",
   "metadata": {},
   "outputs": [],
   "source": []
  },
  {
   "cell_type": "code",
   "execution_count": null,
   "id": "c61c1593-becb-491e-86aa-b999db4bd21f",
   "metadata": {},
   "outputs": [],
   "source": []
  },
  {
   "cell_type": "code",
   "execution_count": null,
   "id": "538ed5b6-f19b-4355-8979-c891e57c311f",
   "metadata": {},
   "outputs": [],
   "source": []
  },
  {
   "cell_type": "code",
   "execution_count": null,
   "id": "c94824bd-ceb3-4c31-bed1-011943fb9731",
   "metadata": {},
   "outputs": [],
   "source": []
  }
 ],
 "metadata": {
  "kernelspec": {
   "display_name": "Python 3 (ipykernel)",
   "language": "python",
   "name": "python3"
  },
  "language_info": {
   "codemirror_mode": {
    "name": "ipython",
    "version": 3
   },
   "file_extension": ".py",
   "mimetype": "text/x-python",
   "name": "python",
   "nbconvert_exporter": "python",
   "pygments_lexer": "ipython3",
   "version": "3.10.6"
  }
 },
 "nbformat": 4,
 "nbformat_minor": 5
}
