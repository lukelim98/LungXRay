{
 "cells": [
  {
   "cell_type": "code",
   "execution_count": 11,
   "id": "7b5c35c3-2fc2-43bb-af9a-2c2ee87f1405",
   "metadata": {
    "tags": []
   },
   "outputs": [
    {
     "name": "stdout",
     "output_type": "stream",
     "text": [
      "Welcome! Downloading some things... this will take a minute\n",
      "[Errno 2] No such file or directory: '/ content'\n",
      "Great! You clicked on it correctly, Now let's get started.\n"
     ]
    }
   ],
   "source": [
    "%matplotlib inline\n",
    "\n",
    "import sklearn.metrics\n",
    "import random\n",
    "import tensorflow as tf\n",
    "import matplotlib.pyplot as plt\n",
    "import os\n",
    "import io\n",
    "import glob\n",
    "import scipy.misc\n",
    "import numpy as np\n",
    "import pandas as pd\n",
    "from six import BytesIO\n",
    "from PIL import Image, ImageDraw, ImageFont\n",
    "import shutil\n",
    "from tensorflow.keras.applications.inception_v3 import InceptionV3\n",
    "from tensorflow.keras import layers\n",
    "from tensorflow.keras import Model\n",
    "import matplotlib\n",
    "from tensorflow.keras.optimizers import RMSprop\n",
    "import os\n",
    "import zipfile\n",
    "from tensorflow.keras.preprocessing.image import ImageDataGenerator\n",
    "import matplotlib.image as mpimg\n",
    "\n",
    "LEARNING_RATE = 0.0001\n",
    "repo_url = 'https://github.com/adleberg/medical-ai'\n",
    "IMAGE_HEIGHT, IMAGE_WIDTH = 256, 256\n",
    "\n",
    "def load_image_into_numpy_array(image):\n",
    "    image = image.convert('RGB')\n",
    "    (im_width, im_height) = image.size\n",
    "    return np.array(image.getdata()).reshape((im_height, im_width, 3)).astype(np.uint8)\n",
    "\n",
    "print(\"Welcome! Downloading some things... this will take a minute\")\n",
    "\n",
    "%cd -q / content\n",
    "repo_dir_path = os.path.abspath(os.path.join('.', os.path.basename(repo_url)))\n",
    "!git clone {repo_url} --quiet\n",
    "%cd -q {repo_dir_path}\n",
    "!git pull -q\n",
    "\n",
    "print(\"Great! You clicked on it correctly, Now let's get started.\")"
   ]
  },
  {
   "cell_type": "markdown",
   "id": "23a79aeb-4c07-4cd0-940d-ea820bb8cf97",
   "metadata": {},
   "source": [
    "### 1. Define a Problem\n",
    "\n",
    "Great! Let's start by thinking of something we can look for in a chest xray.\n",
    "\n",
    "Once we think of something, let's type it in below, in between the qutoes \"\", and run the cell. I'll put in \"atelectasis\" by default, but let's see if we can think of something else.\n",
    "\n",
    "We'll be using a subset of <u>NIH CXR8 dataset</u> for this project, but this principles here apply to any project. The NIH CXR8 dataset only has a few selected finidings within its dataset, but let's pretend that we're creating a dataset from scratch (using Montage, e.g.). Of note, this dataset also has bounding boxes available to us for another demonstration on object detection.\n",
    "\n",
    "We'll need to see how many examples there are of the finding we typed in. Let's run the cell below to see.\n",
    "\n",
    "Atelectasis, Cardiomegaly, Effusion, Infiltration, Mass, Nodule, Pneumonia, Pneumothorax\n",
    "\n",
    "Above are the labels we have avialble to use in this dataset."
   ]
  },
  {
   "cell_type": "code",
   "execution_count": null,
   "id": "38897ea4-da1e-403f-a1f3-91fb0b32077f",
   "metadata": {},
   "outputs": [],
   "source": [
    "finding = "
   ]
  }
 ],
 "metadata": {
  "kernelspec": {
   "display_name": "Python 3 (ipykernel)",
   "language": "python",
   "name": "python3"
  },
  "language_info": {
   "codemirror_mode": {
    "name": "ipython",
    "version": 3
   },
   "file_extension": ".py",
   "mimetype": "text/x-python",
   "name": "python",
   "nbconvert_exporter": "python",
   "pygments_lexer": "ipython3",
   "version": "3.10.6"
  }
 },
 "nbformat": 4,
 "nbformat_minor": 5
}
